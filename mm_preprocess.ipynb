{
 "cells": [
  {
   "cell_type": "code",
   "execution_count": null,
   "id": "0afbd256",
   "metadata": {},
   "outputs": [],
   "source": [
    "import numpy as np\n",
    "import matplotlib.pyplot as plt\n",
    "import datetime\n",
    "import mm_functions as mmf\n",
    "import params as pr"
   ]
  },
  {
   "cell_type": "code",
   "execution_count": null,
   "id": "54bb308a",
   "metadata": {},
   "outputs": [],
   "source": [
    "# Data storage location\n",
    "prefix_dir = '/scratch2/raphaelr/processed_data/'"
   ]
  },
  {
   "cell_type": "code",
   "execution_count": null,
   "id": "244298fa",
   "metadata": {},
   "outputs": [],
   "source": [
    "# Compute and save data\n",
    "def preprocess_data(var_name,cluster_number,n_storm,n_proc):\n",
    "       \n",
    "    # Open track datasets\n",
    "    df_tracks, df_clust = mmf.open_tracks()\n",
    "    # Select storms to be composited\n",
    "    df_select = mmf.get_storms(df_tracks,df_clust,cluster_number,n_storm)\n",
    "    # Make array of datetimes\n",
    "    var_time = mmf.make_var_time(df_select)\n",
    "\n",
    "    # variable-specific adjustments\n",
    "    if (var_name == 'duaod550')or(var_name == 'pm10'): anom_flag = 1\n",
    "    else: anom_flag = 0        \n",
    "    ds_mask = mmf.make_mask(var_name,var_time)\n",
    "\n",
    "    # Compute\n",
    "    comp, dens = mmf.composite_var(var_name,df_select,var_time,ds_mask,anom_flag)\n",
    "    if pr.res_flag=='plot':\n",
    "        fn = prefix_dir+var_name+'/'+var_name+'_hr_bool_c'+str(cluster_number)+'.npz'\n",
    "        # Save\n",
    "        np.savez(fn, comp=comp, dens=dens)\n",
    "    elif pr.res_flag=='sig':\n",
    "        fn = prefix_dir+var_name+'/'+var_name+'_bool_c'+str(cluster_number)+'.npz'\n",
    "        # Save\n",
    "        np.savez(fn, comp=comp, dens=dens)\n",
    "        # MC compute (save is internal)\n",
    "        mmf.mc_composite_var(var_name,df_select,ds_mask,anom_flag,n_proc,prefix_dir,cluster_number)\n",
    "    \n",
    "    print(datetime.datetime.now())\n",
    "    return"
   ]
  },
  {
   "cell_type": "code",
   "execution_count": null,
   "id": "0e4056ad",
   "metadata": {
    "scrolled": true
   },
   "outputs": [],
   "source": [
    "# Select storms based on the cluster \n",
    "cluster_vec = np.arange(1,9+1) # Select cluster number from 1 to 12. Select 0 for all clusters.\n",
    "n_storm = 0 # Enter 0 to composite all storms.\n",
    "n_proc = 15 # Number of processors for the Monte-Carlo analysis\n",
    "\n",
    "# Define the list of variables to be pre-processed\n",
    "var_list = ['WCB','cold_front','DI']\n",
    "# var_list = ['t2m','pm10']\n",
    "# var_list = ['precip','wind_mag','swh','precip_mask'] # 4 variables in 16 hours on 15 cores\n",
    "\n",
    "for cluster_number in cluster_vec:\n",
    "    for var_name in var_list:\n",
    "        preprocess_data(var_name,cluster_number,n_storm,n_proc)"
   ]
  },
  {
   "cell_type": "code",
   "execution_count": null,
   "id": "9d6cf4b2",
   "metadata": {},
   "outputs": [],
   "source": []
  }
 ],
 "metadata": {
  "kernelspec": {
   "display_name": "Python 3 (ipykernel)",
   "language": "python",
   "name": "python3"
  },
  "language_info": {
   "codemirror_mode": {
    "name": "ipython",
    "version": 3
   },
   "file_extension": ".py",
   "mimetype": "text/x-python",
   "name": "python",
   "nbconvert_exporter": "python",
   "pygments_lexer": "ipython3",
   "version": "3.11.5"
  }
 },
 "nbformat": 4,
 "nbformat_minor": 5
}
